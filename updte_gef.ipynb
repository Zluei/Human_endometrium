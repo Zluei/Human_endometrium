{
 "cells": [
  {
   "cell_type": "code",
   "execution_count": 1,
   "id": "6464a9d5-9baa-459f-be84-2a160cedf704",
   "metadata": {},
   "outputs": [],
   "source": [
    "import stereo as st\n",
    "import pandas as pd\n",
    "import scanpy as sc"
   ]
  },
  {
   "cell_type": "code",
   "execution_count": 2,
   "id": "2cc96b21-9979-4f0e-b19a-771de8b8ebf2",
   "metadata": {},
   "outputs": [
    {
     "name": "stderr",
     "output_type": "stream",
     "text": [
      "[2024-11-01 14:39:17][Stereo][2060666][MainThread][131976571942720][reader][1158][INFO]: read_gef begin ...\n"
     ]
    },
    {
     "name": "stdout",
     "output_type": "stream",
     "text": [
      "version is 0.7.16 \n"
     ]
    },
    {
     "name": "stderr",
     "output_type": "stream",
     "text": [
      "[2024-11-01 14:39:19][Stereo][2060666][MainThread][131976571942720][reader][1408][INFO]: This is GEF file which contains cell bin infomation.\n",
      "[2024-11-01 14:39:19][Stereo][2060666][MainThread][131976571942720][reader][1409][INFO]: bin_type: cell_bins\n",
      "[2024-11-01 14:39:19][Stereo][2060666][MainThread][131976571942720][reader][1415][INFO]: Number of cells: 65161\n",
      "[2024-11-01 14:39:19][Stereo][2060666][MainThread][131976571942720][reader][1418][INFO]: Number of gene: 30664\n",
      "[2024-11-01 14:39:19][Stereo][2060666][MainThread][131976571942720][reader][1421][INFO]: Resolution: 500\n",
      "[2024-11-01 14:39:19][Stereo][2060666][MainThread][131976571942720][reader][1424][INFO]: offsetX: 0\n",
      "[2024-11-01 14:39:19][Stereo][2060666][MainThread][131976571942720][reader][1427][INFO]: offsetY: 0\n",
      "[2024-11-01 14:39:19][Stereo][2060666][MainThread][131976571942720][reader][1430][INFO]: Average number of genes: 230.8909149169922\n",
      "[2024-11-01 14:39:19][Stereo][2060666][MainThread][131976571942720][reader][1433][INFO]: Maximum number of genes: 1121\n",
      "[2024-11-01 14:39:19][Stereo][2060666][MainThread][131976571942720][reader][1436][INFO]: Average expression: 387.15838623046875\n",
      "[2024-11-01 14:39:19][Stereo][2060666][MainThread][131976571942720][reader][1439][INFO]: Maximum expression: 2119\n",
      "[2024-11-01 14:39:19][Stereo][2060666][MainThread][131976571942720][reader][1251][INFO]: the matrix has 65161 cells, and 30664 genes.\n"
     ]
    },
    {
     "name": "stdout",
     "output_type": "stream",
     "text": [
      "version is 0.7.16 \n"
     ]
    }
   ],
   "source": [
    "LH2 = st.io.read_gef(\"../D02568B1.cellbin.gef\",bin_type=\"cell_bins\")"
   ]
  },
  {
   "cell_type": "code",
   "execution_count": null,
   "id": "535e93c1-6c57-4bae-959b-e229af2e7a11",
   "metadata": {},
   "outputs": [],
   "source": [
    "adata = st.io.stereo_to_anndata(LH2, flavor='seurat',output='../LH2_cellbin.h5ad')"
   ]
  },
  {
   "cell_type": "code",
   "execution_count": 16,
   "id": "3b5f8436-069f-4e66-bbbd-452b81537672",
   "metadata": {},
   "outputs": [],
   "source": [
    "meta = pd.read_csv(\"../LH12_cellbin_annoed_label.csv\",index_col=0)"
   ]
  },
  {
   "cell_type": "code",
   "execution_count": 4,
   "id": "d1aa7381-c4de-4cdb-97af-5665f313cbf5",
   "metadata": {},
   "outputs": [
    {
     "data": {
      "text/html": [
       "<div>\n",
       "<style scoped>\n",
       "    .dataframe tbody tr th:only-of-type {\n",
       "        vertical-align: middle;\n",
       "    }\n",
       "\n",
       "    .dataframe tbody tr th {\n",
       "        vertical-align: top;\n",
       "    }\n",
       "\n",
       "    .dataframe thead th {\n",
       "        text-align: right;\n",
       "    }\n",
       "</style>\n",
       "<table border=\"1\" class=\"dataframe\">\n",
       "  <thead>\n",
       "    <tr style=\"text-align: right;\">\n",
       "      <th></th>\n",
       "      <th>Str</th>\n",
       "      <th>Immu</th>\n",
       "      <th>Endo</th>\n",
       "      <th>Epi</th>\n",
       "    </tr>\n",
       "  </thead>\n",
       "  <tbody>\n",
       "    <tr>\n",
       "      <th>61306363194794</th>\n",
       "      <td>str_2</td>\n",
       "      <td>other</td>\n",
       "      <td>none</td>\n",
       "      <td>other</td>\n",
       "    </tr>\n",
       "    <tr>\n",
       "      <th>61211873914297</th>\n",
       "      <td>str_2</td>\n",
       "      <td>other</td>\n",
       "      <td>none</td>\n",
       "      <td>other</td>\n",
       "    </tr>\n",
       "    <tr>\n",
       "      <th>61349312867778</th>\n",
       "      <td>str_2</td>\n",
       "      <td>other</td>\n",
       "      <td>none</td>\n",
       "      <td>other</td>\n",
       "    </tr>\n",
       "    <tr>\n",
       "      <th>61448097115611</th>\n",
       "      <td>str_2</td>\n",
       "      <td>other</td>\n",
       "      <td>none</td>\n",
       "      <td>other</td>\n",
       "    </tr>\n",
       "    <tr>\n",
       "      <th>61203283979745</th>\n",
       "      <td>str_2</td>\n",
       "      <td>other</td>\n",
       "      <td>none</td>\n",
       "      <td>other</td>\n",
       "    </tr>\n",
       "    <tr>\n",
       "      <th>...</th>\n",
       "      <td>...</td>\n",
       "      <td>...</td>\n",
       "      <td>...</td>\n",
       "      <td>...</td>\n",
       "    </tr>\n",
       "    <tr>\n",
       "      <th>31954556701207</th>\n",
       "      <td>none</td>\n",
       "      <td>other</td>\n",
       "      <td>none</td>\n",
       "      <td>other</td>\n",
       "    </tr>\n",
       "    <tr>\n",
       "      <th>32216549706265</th>\n",
       "      <td>str_2</td>\n",
       "      <td>other</td>\n",
       "      <td>none</td>\n",
       "      <td>other</td>\n",
       "    </tr>\n",
       "    <tr>\n",
       "      <th>32079110752796</th>\n",
       "      <td>str_2</td>\n",
       "      <td>other</td>\n",
       "      <td>none</td>\n",
       "      <td>other</td>\n",
       "    </tr>\n",
       "    <tr>\n",
       "      <th>32006096308775</th>\n",
       "      <td>str_2</td>\n",
       "      <td>other</td>\n",
       "      <td>none</td>\n",
       "      <td>other</td>\n",
       "    </tr>\n",
       "    <tr>\n",
       "      <th>31997506374208</th>\n",
       "      <td>str_2</td>\n",
       "      <td>other</td>\n",
       "      <td>none</td>\n",
       "      <td>other</td>\n",
       "    </tr>\n",
       "  </tbody>\n",
       "</table>\n",
       "<p>65161 rows × 4 columns</p>\n",
       "</div>"
      ],
      "text/plain": [
       "                  Str   Immu  Endo    Epi\n",
       "61306363194794  str_2  other  none  other\n",
       "61211873914297  str_2  other  none  other\n",
       "61349312867778  str_2  other  none  other\n",
       "61448097115611  str_2  other  none  other\n",
       "61203283979745  str_2  other  none  other\n",
       "...               ...    ...   ...    ...\n",
       "31954556701207   none  other  none  other\n",
       "32216549706265  str_2  other  none  other\n",
       "32079110752796  str_2  other  none  other\n",
       "32006096308775  str_2  other  none  other\n",
       "31997506374208  str_2  other  none  other\n",
       "\n",
       "[65161 rows x 4 columns]"
      ]
     },
     "execution_count": 4,
     "metadata": {},
     "output_type": "execute_result"
    }
   ],
   "source": [
    "meta"
   ]
  },
  {
   "cell_type": "code",
   "execution_count": 13,
   "id": "edfc25dc-a9cb-4ba5-8749-305063ebc6ea",
   "metadata": {},
   "outputs": [],
   "source": [
    "LH2.tl.key_record['str_cluster']=['str_cluster']\n",
    "LH2.tl.result['str_cluster']=pd.DataFrame({'bins' : meta.index,\n",
    "                                      'group' : meta['Str']})"
   ]
  },
  {
   "cell_type": "code",
   "execution_count": 14,
   "id": "2a63cb60-e387-473e-aabe-1271a731fa42",
   "metadata": {},
   "outputs": [],
   "source": [
    "#st.io.update_gef(LH2,\"../D02568B1.cellbin.gef\",cluster_res_key = 'str_cluster')\n",
    "#st.io.update_gef(LH7,\"../A02500C2.cellbin.gef\",cluster_res_key = 'str_cluster')\n",
    "st.io.update_gef(LH9,\"../C02826B1.cellbin.gef\",cluster_res_key = 'str_cluster')\n",
    "#st.io.update_gef(LH12,\"../B02619A6.cellbin.gef\",cluster_res_key = 'epi_cluster')"
   ]
  },
  {
   "cell_type": "code",
   "execution_count": null,
   "id": "8c8c0c48-b987-4d5e-b667-bdbf0e099a2d",
   "metadata": {},
   "outputs": [],
   "source": []
  },
  {
   "cell_type": "code",
   "execution_count": null,
   "id": "ff7794e2-4a61-4d71-92e2-cfdf872e1259",
   "metadata": {},
   "outputs": [],
   "source": []
  },
  {
   "cell_type": "code",
   "execution_count": null,
   "id": "51725435-3ab6-4961-951e-6a9d323dd367",
   "metadata": {},
   "outputs": [],
   "source": []
  },
  {
   "cell_type": "code",
   "execution_count": null,
   "id": "469b21ab-0e04-4300-9d52-c83ff7dfe512",
   "metadata": {},
   "outputs": [],
   "source": []
  }
 ],
 "metadata": {
  "kernelspec": {
   "display_name": "stereopy",
   "language": "python",
   "name": "stereopy"
  },
  "language_info": {
   "codemirror_mode": {
    "name": "ipython",
    "version": 3
   },
   "file_extension": ".py",
   "mimetype": "text/x-python",
   "name": "python",
   "nbconvert_exporter": "python",
   "pygments_lexer": "ipython3",
   "version": "3.8.19"
  }
 },
 "nbformat": 4,
 "nbformat_minor": 5
}
